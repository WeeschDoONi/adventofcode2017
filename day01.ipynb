{
 "cells": [
  {
   "cell_type": "code",
   "execution_count": 12,
   "metadata": {},
   "outputs": [],
   "source": [
    "import utils\n",
    "\n",
    "data = utils.read_line('day01_input.txt')"
   ]
  },
  {
   "cell_type": "code",
   "execution_count": 13,
   "metadata": {},
   "outputs": [
    {
     "name": "stdout",
     "output_type": "stream",
     "text": [
      "Lösung 1: 1034\n"
     ]
    }
   ],
   "source": [
    "##### 1 #####\n",
    "\n",
    "total_sum = 0\n",
    "for i, c in enumerate(data):\n",
    "    if c == data[(i + 1) % len(data)]:\n",
    "        total_sum += int(c)\n",
    "print('Lösung 1: {}'.format(total_sum))"
   ]
  },
  {
   "cell_type": "code",
   "execution_count": 14,
   "metadata": {},
   "outputs": [
    {
     "name": "stdout",
     "output_type": "stream",
     "text": [
      "Lösung 2: 1356\n"
     ]
    }
   ],
   "source": [
    "##### 2 #####\n",
    "\n",
    "o = int(len(data)/2)    \n",
    "total_sum = 0\n",
    "for i, c in enumerate(data):\n",
    "    if c == data[(i + o) % (o * 2)]:\n",
    "        total_sum += int(c)\n",
    "print('Lösung 2: {}'.format(total_sum))"
   ]
  },
  {
   "cell_type": "code",
   "execution_count": null,
   "metadata": {},
   "outputs": [],
   "source": []
  },
  {
   "cell_type": "code",
   "execution_count": null,
   "metadata": {},
   "outputs": [],
   "source": []
  }
 ],
 "metadata": {
  "kernelspec": {
   "display_name": "Python 3",
   "language": "python",
   "name": "python3"
  },
  "language_info": {
   "codemirror_mode": {
    "name": "ipython",
    "version": 3
   },
   "file_extension": ".py",
   "mimetype": "text/x-python",
   "name": "python",
   "nbconvert_exporter": "python",
   "pygments_lexer": "ipython3",
   "version": "3.5.2"
  }
 },
 "nbformat": 4,
 "nbformat_minor": 2
}
