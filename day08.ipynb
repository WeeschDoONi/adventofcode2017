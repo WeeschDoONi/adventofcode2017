{
 "cells": [
  {
   "cell_type": "code",
   "execution_count": 22,
   "metadata": {},
   "outputs": [
    {
     "name": "stdout",
     "output_type": "stream",
     "text": [
      "Largest value at the end: 3089\n",
      "Largest value ever: 5391\n"
     ]
    }
   ],
   "source": [
    "import operator\n",
    "from collections import defaultdict\n",
    "\n",
    "ops = { '==': operator.eq,\n",
    "       '!=': operator.ne,\n",
    "       '>': operator.gt,\n",
    "       '<': operator.lt,\n",
    "       '>=': operator.ge,\n",
    "       '<=': operator.le   \n",
    "}\n",
    "\n",
    "regs = defaultdict(int)\n",
    "max_ever = 0\n",
    "\n",
    "with open('day08_input.txt', 'r') as text:\n",
    "    \n",
    "    lines = text.read().splitlines()\n",
    "    \n",
    "    for line in lines:\n",
    "        \n",
    "        reg1, instr,  value1, _, reg2, op, value2 = line.split()\n",
    "        \n",
    "        if ops[op](regs[reg2], int(value2)):\n",
    "            if instr == 'inc':\n",
    "                regs[reg1] += int(value1)\n",
    "            else:\n",
    "                regs[reg1] -= int(value1)  \n",
    "                \n",
    "        max_ever = max(regs.values()) if max(regs.values()) > max_ever else max_ever\n",
    "            \n",
    "                        \n",
    "print('Largest value at the end: {}'.format(max(regs.values())))\n",
    "print('Largest value ever: {}'.format(max_ever))"
   ]
  },
  {
   "cell_type": "code",
   "execution_count": null,
   "metadata": {},
   "outputs": [],
   "source": []
  }
 ],
 "metadata": {
  "kernelspec": {
   "display_name": "Python 3",
   "language": "python",
   "name": "python3"
  },
  "language_info": {
   "codemirror_mode": {
    "name": "ipython",
    "version": 3
   },
   "file_extension": ".py",
   "mimetype": "text/x-python",
   "name": "python",
   "nbconvert_exporter": "python",
   "pygments_lexer": "ipython3",
   "version": "3.5.2"
  }
 },
 "nbformat": 4,
 "nbformat_minor": 2
}
