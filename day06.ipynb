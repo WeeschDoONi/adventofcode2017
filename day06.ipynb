{
 "cells": [
  {
   "cell_type": "code",
   "execution_count": 3,
   "metadata": {},
   "outputs": [
    {
     "name": "stdout",
     "output_type": "stream",
     "text": [
      "Answer Part One: 5042\n",
      "Answer Part Two: 1086\n"
     ]
    }
   ],
   "source": [
    "import numpy as np\n",
    "\n",
    "with open('day06_input.txt', 'r') as text:\n",
    "    \n",
    "    banks = list(map(int, text.read().split()))\n",
    "\n",
    "    configurations = []\n",
    "    \n",
    "    while banks not in configurations:\n",
    "        \n",
    "        # append a copy of the list, not the reference\n",
    "        configurations.append(list(banks)) \n",
    "        \n",
    "        index = np.argmax(banks) \n",
    "        blocks_to_spread = banks[index]\n",
    "        banks[index] = 0        \n",
    "        \n",
    "        while blocks_to_spread > 0:\n",
    "            index += 1\n",
    "            banks[index % len(banks)] += 1\n",
    "            blocks_to_spread -= 1\n",
    "            \n",
    "    # Part One \n",
    "    print('Answer Part One: {}'.format(len(configurations)))\n",
    "    # Part Two \n",
    "    print('Answer Part Two: {}'.format(len(configurations) - configurations.index(banks)))"
   ]
  },
  {
   "cell_type": "code",
   "execution_count": null,
   "metadata": {},
   "outputs": [],
   "source": []
  },
  {
   "cell_type": "code",
   "execution_count": null,
   "metadata": {},
   "outputs": [],
   "source": []
  }
 ],
 "metadata": {
  "kernelspec": {
   "display_name": "Python 3",
   "language": "python",
   "name": "python3"
  },
  "language_info": {
   "codemirror_mode": {
    "name": "ipython",
    "version": 3
   },
   "file_extension": ".py",
   "mimetype": "text/x-python",
   "name": "python",
   "nbconvert_exporter": "python",
   "pygments_lexer": "ipython3",
   "version": "3.5.2"
  }
 },
 "nbformat": 4,
 "nbformat_minor": 2
}
