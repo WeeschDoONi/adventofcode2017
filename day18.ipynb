{
 "cells": [
  {
   "cell_type": "markdown",
   "metadata": {},
   "source": [
    "# Part one"
   ]
  },
  {
   "cell_type": "code",
   "execution_count": 54,
   "metadata": {},
   "outputs": [
    {
     "name": "stdout",
     "output_type": "stream",
     "text": [
      "3188\n"
     ]
    }
   ],
   "source": [
    "import utils\n",
    "from collections import defaultdict\n",
    "\n",
    "data = utils.read_line('day18_input.txt').splitlines()\n",
    "\n",
    "registers = defaultdict(int)\n",
    "freq_last_played = 0\n",
    "i = 0\n",
    "\n",
    "\n",
    "def get_value(val):\n",
    "    if val.isalpha():\n",
    "        return registers[val]\n",
    "    else:\n",
    "        return int(val)\n",
    "    \n",
    "\n",
    "while True:\n",
    "    ins = data[i].split()\n",
    "    if ins[0] == 'snd':\n",
    "        freq_last_played = get_value(ins[1])\n",
    "    elif ins[0] == 'set':\n",
    "        registers[ins[1]] = get_value(ins[2])\n",
    "    elif ins[0] == 'add':\n",
    "        registers[ins[1]] += get_value(ins[2])\n",
    "    elif ins[0] == 'mul':\n",
    "        registers[ins[1]] *= get_value(ins[2])\n",
    "    elif ins[0] == 'mod':\n",
    "        registers[ins[1]] %= get_value(ins[2])\n",
    "    elif ins[0] == 'rcv':\n",
    "        if registers[ins[1]] != 0:\n",
    "            print(freq_last_played)\n",
    "            registers[ins[1]] = freq_last_played\n",
    "            break\n",
    "    if ins[0] == 'jgz':\n",
    "        if registers[ins[1]] > 0:\n",
    "            i += get_value(ins[2])\n",
    "        else:\n",
    "            i += 1\n",
    "    else:\n",
    "        i += 1\n",
    "            "
   ]
  },
  {
   "cell_type": "markdown",
   "metadata": {},
   "source": [
    "# Part two"
   ]
  },
  {
   "cell_type": "code",
   "execution_count": 57,
   "metadata": {},
   "outputs": [
    {
     "name": "stdout",
     "output_type": "stream",
     "text": [
      "7112\n"
     ]
    }
   ],
   "source": [
    "def step(registers, data, i, snd_queue, rcv_queue, is_prog1=False):\n",
    "    \n",
    "    \n",
    "    def get_value(val):\n",
    "        if val.isalpha():\n",
    "            return registers[val]\n",
    "        else:\n",
    "            return int(val)\n",
    "    \n",
    "    \n",
    "    ins = data[i].split()\n",
    "    if ins[0] == 'snd':\n",
    "        snd_queue.append(get_value(ins[1]))\n",
    "        if is_prog1:\n",
    "            global count\n",
    "            count += 1\n",
    "    elif ins[0] == 'set':\n",
    "        registers[ins[1]] = get_value(ins[2])\n",
    "    elif ins[0] == 'add':\n",
    "        registers[ins[1]] += get_value(ins[2])\n",
    "    elif ins[0] == 'mul':\n",
    "        registers[ins[1]] *= get_value(ins[2])\n",
    "    elif ins[0] == 'mod':\n",
    "        registers[ins[1]] %= get_value(ins[2])\n",
    "    elif ins[0] == 'rcv':\n",
    "        if not rcv_queue:\n",
    "            return i\n",
    "        else:\n",
    "            registers[ins[1]] = rcv_queue.pop(0)\n",
    "    if ins[0] == 'jgz':\n",
    "        if get_value(ins[1]) > 0:\n",
    "            i += get_value(ins[2])\n",
    "        else:\n",
    "            i += 1      \n",
    "    else:\n",
    "        i += 1\n",
    "        \n",
    "    return i\n",
    "\n",
    "\n",
    "\n",
    "prog0 = defaultdict(lambda: 0)\n",
    "prog1 = defaultdict(lambda: 1)\n",
    "\n",
    "step0 = 0\n",
    "step1 = 0\n",
    "\n",
    "queue0 = []\n",
    "queue1 = []\n",
    "\n",
    "count = 0\n",
    "\n",
    "while True:\n",
    "    cur0, cur1 = step0, step1\n",
    "    if step0 <= len(data):\n",
    "        step0 = step(prog0, data, step0, queue0, queue1)\n",
    "    if step1 <= len(data):\n",
    "        step1 = step(prog1, data, step1, queue1, queue0, is_prog1=True)\n",
    "    if cur0 == step0 and cur1 == step1:\n",
    "        break\n",
    "\n",
    "print(count)"
   ]
  },
  {
   "cell_type": "code",
   "execution_count": null,
   "metadata": {},
   "outputs": [],
   "source": []
  },
  {
   "cell_type": "code",
   "execution_count": null,
   "metadata": {},
   "outputs": [],
   "source": []
  }
 ],
 "metadata": {
  "kernelspec": {
   "display_name": "Python 3",
   "language": "python",
   "name": "python3"
  },
  "language_info": {
   "codemirror_mode": {
    "name": "ipython",
    "version": 3
   },
   "file_extension": ".py",
   "mimetype": "text/x-python",
   "name": "python",
   "nbconvert_exporter": "python",
   "pygments_lexer": "ipython3",
   "version": "3.5.2"
  }
 },
 "nbformat": 4,
 "nbformat_minor": 2
}
