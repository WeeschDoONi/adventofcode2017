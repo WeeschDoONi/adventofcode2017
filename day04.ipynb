{
 "cells": [
  {
   "cell_type": "code",
   "execution_count": 8,
   "metadata": {},
   "outputs": [],
   "source": [
    "import utils\n",
    "\n",
    "data = utils.read_lines('day04_input.txt')"
   ]
  },
  {
   "cell_type": "code",
   "execution_count": 9,
   "metadata": {},
   "outputs": [
    {
     "name": "stdout",
     "output_type": "stream",
     "text": [
      "337\n"
     ]
    }
   ],
   "source": [
    "##### 1 #### \n",
    "\n",
    "count = 0\n",
    "\n",
    "for line in data:\n",
    "    # strip removes \\n from the end\n",
    "    line = line.strip()\n",
    "    words = line.split(' ')\n",
    "    # set cannot contain duplicates\n",
    "    # if the set is smaller a duplicate was removed -> not valid\n",
    "    if len(words) == len(set(words)):\n",
    "        count += 1\n",
    "\n",
    "print(count)"
   ]
  },
  {
   "cell_type": "code",
   "execution_count": 10,
   "metadata": {},
   "outputs": [
    {
     "name": "stdout",
     "output_type": "stream",
     "text": [
      "231\n"
     ]
    }
   ],
   "source": [
    "##### 2 #####\n",
    "\n",
    "count = 0\n",
    "\n",
    "for line in data:\n",
    "    # strip removes \\n from the end\n",
    "    words = line.strip().split(' ')\n",
    "    sorted_words = []\n",
    "    for word in words:\n",
    "        # the letters are sorted alphabetically\n",
    "        # join joins the list of chars to a string\n",
    "        sorted_words.append(''.join(sorted(word)))\n",
    "    # same set-trick as in part 1    \n",
    "    if len(sorted_words) == len(set(sorted_words)):\n",
    "        count += 1\n",
    "\n",
    "print(count)"
   ]
  },
  {
   "cell_type": "code",
   "execution_count": null,
   "metadata": {},
   "outputs": [],
   "source": []
  }
 ],
 "metadata": {
  "kernelspec": {
   "display_name": "Python 3",
   "language": "python",
   "name": "python3"
  },
  "language_info": {
   "codemirror_mode": {
    "name": "ipython",
    "version": 3
   },
   "file_extension": ".py",
   "mimetype": "text/x-python",
   "name": "python",
   "nbconvert_exporter": "python",
   "pygments_lexer": "ipython3",
   "version": "3.5.2"
  }
 },
 "nbformat": 4,
 "nbformat_minor": 2
}
