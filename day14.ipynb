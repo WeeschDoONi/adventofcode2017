{
 "cells": [
  {
   "cell_type": "code",
   "execution_count": 13,
   "metadata": {},
   "outputs": [
    {
     "name": "stdout",
     "output_type": "stream",
     "text": [
      "Number of used squares: 8316\n",
      "Number of groups in total: 1074\n"
     ]
    }
   ],
   "source": [
    "import day10\n",
    "import networkx as nx\n",
    "\n",
    "puzzle_input = 'ljoxqyyw'\n",
    "\n",
    "used_squares = 0\n",
    "graph = nx.generators.lattice.grid_2d_graph(128, 128)\n",
    "\n",
    "for row in range(128):\n",
    "    hash_input = puzzle_input + '-' + str(row)\n",
    "    hex_hash = day10.calc_hex_hash(hash_input)\n",
    "    # int base 16 -> bin(0bxxxx...) --> [2:] to get rid of '0b' --> zfill for leading zeroes\n",
    "    hex_hash_as_bin = bin(int(hex_hash, 16))[2:].zfill(128)\n",
    "    used_squares += hex_hash_as_bin.count('1')\n",
    "    \n",
    "    for col, c in enumerate(hex_hash_as_bin):\n",
    "        if c == '0':\n",
    "            graph.remove_node((col, row))\n",
    "\n",
    "print('Number of used squares: {}'.format(used_squares))\n",
    "print('Number of groups in total: {}'.format(nx.number_connected_components(graph)))"
   ]
  },
  {
   "cell_type": "code",
   "execution_count": null,
   "metadata": {},
   "outputs": [],
   "source": []
  },
  {
   "cell_type": "code",
   "execution_count": null,
   "metadata": {},
   "outputs": [],
   "source": []
  }
 ],
 "metadata": {
  "kernelspec": {
   "display_name": "Python 3",
   "language": "python",
   "name": "python3"
  },
  "language_info": {
   "codemirror_mode": {
    "name": "ipython",
    "version": 3
   },
   "file_extension": ".py",
   "mimetype": "text/x-python",
   "name": "python",
   "nbconvert_exporter": "python",
   "pygments_lexer": "ipython3",
   "version": "3.5.2"
  }
 },
 "nbformat": 4,
 "nbformat_minor": 2
}
