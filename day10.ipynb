{
 "cells": [
  {
   "cell_type": "code",
   "execution_count": 1,
   "metadata": {},
   "outputs": [
    {
     "name": "stdout",
     "output_type": "stream",
     "text": [
      "Product of first two numbers: 62238\n",
      "Knot hash is: 2b0c9cc0449507a0db3babd57ad9e8d8\n"
     ]
    }
   ],
   "source": [
    "def reverse_sub_list(circle_list, pos, length):\n",
    "    if pos + length <= len(circle_list):\n",
    "        circle_list[pos: pos + length]  = reversed(circle_list[pos: pos + length])\n",
    "    else:\n",
    "        sub_list_to_reverse = circle_list[pos:] + circle_list[:pos+length-256]\n",
    "        sub_list_reversed = list(reversed(sub_list_to_reverse))\n",
    "        circle_list[pos:] = sub_list_reversed[:256-pos]\n",
    "        circle_list[:(pos+length-256)] = sub_list_reversed[256-pos:] \n",
    "    return circle_list\n",
    "\n",
    "\n",
    "def process_circle_list(lengths, repeat):\n",
    "    circle_list = list(range(256))\n",
    "    cur_pos = 0\n",
    "    skip_size = 0\n",
    "    \n",
    "    for i in range(repeat):\n",
    "        for length in lengths:\n",
    "            circle_list = reverse_sub_list(circle_list, cur_pos, length) \n",
    "            cur_pos = (cur_pos + length + skip_size) % len(circle_list)\n",
    "            skip_size += 1\n",
    "            \n",
    "    return circle_list\n",
    "\n",
    "\n",
    "def build_ascii_list(data):\n",
    "    data_ascii = []\n",
    "    for c in data:\n",
    "        data_ascii.append(ord(c))        \n",
    "        \n",
    "    data_ascii += [17, 31, 73, 47, 23] \n",
    "    \n",
    "    return data_ascii\n",
    "\n",
    "\n",
    "def calc_dense_hashes(sparse_hashes):\n",
    "    dense_hashes = []\n",
    "    xor_sum = 0\n",
    "    \n",
    "    for count, number in enumerate(sparse_hashes):\n",
    "        xor_sum = xor_sum ^ number\n",
    "        if count % 16 == 15:\n",
    "            dense_hashes.append(xor_sum)\n",
    "            xor_sum = 0\n",
    "    return dense_hashes\n",
    "\n",
    "\n",
    "def build_hex_string(dense_hash):\n",
    "    hex_string = ''\n",
    "    \n",
    "    for dense_hash in dense_hashes:\n",
    "        # 0:  --> first parameter (dense_hash)\n",
    "        # 0   --> fill with zeroes\n",
    "        # {1} --> length of filled string (parameter 2)\n",
    "        # x   --> hex representation\n",
    "        hash_as_hex = '{0:0{1}x}'.format(dense_hash, 2)\n",
    "        hex_string += hash_as_hex\n",
    "        \n",
    "    return hex_string\n",
    "\n",
    "            \n",
    "with open('day10_input.txt', 'r') as data:\n",
    "    data = data.read()\n",
    "    \n",
    "    #### Part One\n",
    "    lengths = list(map(int, data.split(',')))\n",
    "    \n",
    "    circle_list = process_circle_list(lengths=lengths, repeat=1)        \n",
    "    print('Product of first two numbers: {}'.format(circle_list[0]*circle_list[1]))\n",
    "    \n",
    "    #### Part Two\n",
    "    data_ascii = build_ascii_list(data)         \n",
    "                \n",
    "    sparse_hashes = process_circle_list(lengths=data_ascii, repeat=64) \n",
    "    \n",
    "    dense_hashes = calc_dense_hashes(sparse_hashes)\n",
    "                  \n",
    "    print('Knot hash is: {}'.format(build_hex_string(dense_hashes)))"
   ]
  },
  {
   "cell_type": "markdown",
   "metadata": {},
   "source": []
  }
 ],
 "metadata": {
  "kernelspec": {
   "display_name": "Python 3",
   "language": "python",
   "name": "python3"
  },
  "language_info": {
   "codemirror_mode": {
    "name": "ipython",
    "version": 3
   },
   "file_extension": ".py",
   "mimetype": "text/x-python",
   "name": "python",
   "nbconvert_exporter": "python",
   "pygments_lexer": "ipython3",
   "version": "3.5.2"
  }
 },
 "nbformat": 4,
 "nbformat_minor": 2
}
