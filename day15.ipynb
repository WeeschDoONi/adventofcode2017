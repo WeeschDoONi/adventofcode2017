{
 "cells": [
  {
   "cell_type": "code",
   "execution_count": 16,
   "metadata": {},
   "outputs": [
    {
     "name": "stdout",
     "output_type": "stream",
     "text": [
      "Matches part one: 638\n",
      "Matches part one: 343\n"
     ]
    }
   ],
   "source": [
    "def calc_matches(judged_pairs, part2 = False, gen_a = 289, gen_b = 629, \\\n",
    "                 factor_a = 16807, factor_b = 48271, common_factor = 2147483647, \\\n",
    "                 gen_a_cond = 4, gen_b_cond = 8, match_cond = pow(2, 16)):\n",
    "\n",
    "    matches = 0\n",
    "    for _ in range(judged_pairs):\n",
    "    \n",
    "        gen_a = (gen_a * factor_a) % common_factor\n",
    "        gen_b = (gen_b * factor_b) % common_factor  \n",
    "      \n",
    "        if part2:\n",
    "            while (gen_a % gen_a_cond) != 0:\n",
    "                gen_a = (gen_a * factor_a) % common_factor\n",
    "            while (gen_b % gen_b_cond) != 0:\n",
    "                gen_b = (gen_b * factor_b) % common_factor\n",
    "\n",
    "        if gen_a % match_cond == gen_b % match_cond:\n",
    "            matches += 1    \n",
    "        \n",
    "    return matches\n",
    "        \n",
    "print('Matches part one: {}'.format(calc_matches(40000000)))\n",
    "print('Matches part one: {}'.format(calc_matches(5000000, part2 = True)))"
   ]
  },
  {
   "cell_type": "code",
   "execution_count": null,
   "metadata": {},
   "outputs": [],
   "source": []
  },
  {
   "cell_type": "code",
   "execution_count": null,
   "metadata": {},
   "outputs": [],
   "source": []
  }
 ],
 "metadata": {
  "kernelspec": {
   "display_name": "Python 3",
   "language": "python",
   "name": "python3"
  },
  "language_info": {
   "codemirror_mode": {
    "name": "ipython",
    "version": 3
   },
   "file_extension": ".py",
   "mimetype": "text/x-python",
   "name": "python",
   "nbconvert_exporter": "python",
   "pygments_lexer": "ipython3",
   "version": "3.5.2"
  }
 },
 "nbformat": 4,
 "nbformat_minor": 2
}
