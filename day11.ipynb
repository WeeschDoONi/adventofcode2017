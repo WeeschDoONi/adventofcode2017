{
 "cells": [
  {
   "cell_type": "code",
   "execution_count": 2,
   "metadata": {},
   "outputs": [
    {
     "name": "stdout",
     "output_type": "stream",
     "text": [
      "715\n",
      "1512\n"
     ]
    }
   ],
   "source": [
    "def calc_distance(coords):\n",
    "    return int(abs(coords[1]) + (abs((abs(coords[1]) - abs(coords[0]))) / 2))\n",
    "\n",
    "with open('day11_input.txt', 'r') as data:\n",
    "    data = data.read().split(',')\n",
    "    \n",
    "    coords = [0, 0]\n",
    "    distances = []\n",
    "    \n",
    "    for ins in data:\n",
    "        if ins == 'n':\n",
    "            coords[0] += 2\n",
    "        elif ins == 's':\n",
    "            coords[0] -= 2\n",
    "        elif ins == 'ne':\n",
    "            coords[0] += 1\n",
    "            coords[1] += 1\n",
    "        elif ins == 'se':\n",
    "            coords[0] -= 1\n",
    "            coords[1] += 1\n",
    "        elif ins == 'sw':\n",
    "            coords[0] -= 1\n",
    "            coords[1] -= 1\n",
    "        elif ins == 'nw':\n",
    "            coords[0] += 1\n",
    "            coords[1] -= 1\n",
    "        distances.append(calc_distance(coords))\n",
    "            \n",
    "    print(calc_distance(coords))\n",
    "    print(max(distances))"
   ]
  },
  {
   "cell_type": "code",
   "execution_count": null,
   "metadata": {},
   "outputs": [],
   "source": []
  },
  {
   "cell_type": "code",
   "execution_count": null,
   "metadata": {},
   "outputs": [],
   "source": []
  }
 ],
 "metadata": {
  "kernelspec": {
   "display_name": "Python 3",
   "language": "python",
   "name": "python3"
  },
  "language_info": {
   "codemirror_mode": {
    "name": "ipython",
    "version": 3
   },
   "file_extension": ".py",
   "mimetype": "text/x-python",
   "name": "python",
   "nbconvert_exporter": "python",
   "pygments_lexer": "ipython3",
   "version": "3.5.2"
  }
 },
 "nbformat": 4,
 "nbformat_minor": 2
}
