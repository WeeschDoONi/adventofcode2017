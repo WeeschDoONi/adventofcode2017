{
 "cells": [
  {
   "cell_type": "code",
   "execution_count": 2,
   "metadata": {},
   "outputs": [],
   "source": [
    "with open('day02_input.txt', 'r') as text:\n",
    "    \n",
    "    input = text.readlines()"
   ]
  },
  {
   "cell_type": "code",
   "execution_count": 4,
   "metadata": {},
   "outputs": [
    {
     "name": "stdout",
     "output_type": "stream",
     "text": [
      "45158\n"
     ]
    }
   ],
   "source": [
    "    ##### Part One #####\n",
    "\n",
    "    sum = 0\n",
    "    for line in input:\n",
    "        # convert all numbers to ints in a list\n",
    "        numbers = list(map(int, line.split()))\n",
    "        sum += max(numbers) - min(numbers)\n",
    "    print(sum)"
   ]
  },
  {
   "cell_type": "code",
   "execution_count": 8,
   "metadata": {},
   "outputs": [
    {
     "name": "stdout",
     "output_type": "stream",
     "text": [
      "294\n"
     ]
    }
   ],
   "source": [
    "    ##### Part Two #####\n",
    "\n",
    "    sum = 0\n",
    "    for line in input:\n",
    "        numbers = list(map(int, line.split()))\n",
    "        for x in numbers:\n",
    "            for y in numbers:\n",
    "                # check if numbers are divisible (and not the same)\n",
    "                if x != y and x%y == 0:\n",
    "                    sum += int(x/y)\n",
    "    print(sum)"
   ]
  },
  {
   "cell_type": "code",
   "execution_count": null,
   "metadata": {},
   "outputs": [],
   "source": []
  }
 ],
 "metadata": {
  "kernelspec": {
   "display_name": "Python 3",
   "language": "python",
   "name": "python3"
  },
  "language_info": {
   "codemirror_mode": {
    "name": "ipython",
    "version": 3
   },
   "file_extension": ".py",
   "mimetype": "text/x-python",
   "name": "python",
   "nbconvert_exporter": "python",
   "pygments_lexer": "ipython3",
   "version": "3.5.2"
  }
 },
 "nbformat": 4,
 "nbformat_minor": 2
}
