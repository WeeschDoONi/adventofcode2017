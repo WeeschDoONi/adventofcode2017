{
 "cells": [
  {
   "cell_type": "code",
   "execution_count": 21,
   "metadata": {},
   "outputs": [
    {
     "name": "stdout",
     "output_type": "stream",
     "text": [
      "MOABEUCWQS 18058\n"
     ]
    }
   ],
   "source": [
    "import utils\n",
    "\n",
    "def get_coords(x, y, direction):\n",
    "    if direction == 'u':\n",
    "        y -= 1\n",
    "    elif direction == 'd':\n",
    "        y += 1\n",
    "    elif direction == 'l':\n",
    "        x -= 1\n",
    "    elif direction == 'r':\n",
    "        x += 1\n",
    "    return (x, y)\n",
    "\n",
    "\n",
    "data = utils.read_line_no_strip('day19_input.txt').splitlines()\n",
    "\n",
    "x = data[0].index('|')\n",
    "y = 0\n",
    "direction = 'd'\n",
    "seen_letters = ''\n",
    "steps = 0\n",
    "\n",
    "while data[y][x] != ' ':   \n",
    "    x, y = get_coords(x, y, direction)\n",
    "    steps += 1    \n",
    "    if data[y][x].isalpha():\n",
    "        seen_letters += data[y][x]         \n",
    "    elif data[y][x] == '+':\n",
    "        a, b = get_coords(x, y, direction)\n",
    "        if data[b][a] == ' ':\n",
    "            if direction == 'u' or direction == 'd':\n",
    "                direction = 'r' if data[y][x+1] != ' ' else 'l'\n",
    "            else:                    \n",
    "                direction = 'd' if data[y+1][x] != ' ' else 'u'\n",
    "                \n",
    "print(seen_letters, steps)   "
   ]
  },
  {
   "cell_type": "code",
   "execution_count": null,
   "metadata": {},
   "outputs": [],
   "source": []
  },
  {
   "cell_type": "code",
   "execution_count": null,
   "metadata": {},
   "outputs": [],
   "source": []
  }
 ],
 "metadata": {
  "kernelspec": {
   "display_name": "Python 3",
   "language": "python",
   "name": "python3"
  },
  "language_info": {
   "codemirror_mode": {
    "name": "ipython",
    "version": 3
   },
   "file_extension": ".py",
   "mimetype": "text/x-python",
   "name": "python",
   "nbconvert_exporter": "python",
   "pygments_lexer": "ipython3",
   "version": "3.5.2"
  }
 },
 "nbformat": 4,
 "nbformat_minor": 2
}
