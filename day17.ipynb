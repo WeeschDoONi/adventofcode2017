{
 "cells": [
  {
   "cell_type": "code",
   "execution_count": 7,
   "metadata": {},
   "outputs": [
    {
     "name": "stdout",
     "output_type": "stream",
     "text": [
      "725\n",
      "27361412\n"
     ]
    }
   ],
   "source": [
    "from collections import deque\n",
    "\n",
    "steps = 329\n",
    "\n",
    "spinlock = deque([0])\n",
    "\n",
    "# Part two brute forced (takes ~1 min on my CPU, requires >1GB memory)\n",
    "for i in range(1, 50000001):\n",
    "    spinlock.rotate((-steps-1) % len(spinlock))\n",
    "    spinlock.appendleft(i)\n",
    "    # Part one\n",
    "    if i == 2017:\n",
    "        print(spinlock[1])\n",
    "# Part two\n",
    "print(spinlock[spinlock.index(0) + 1])"
   ]
  },
  {
   "cell_type": "code",
   "execution_count": 10,
   "metadata": {},
   "outputs": [
    {
     "name": "stdout",
     "output_type": "stream",
     "text": [
      "27361412\n"
     ]
    }
   ],
   "source": [
    "# Part two only saving the current value at position 1\n",
    "# Faster and less memory than brute-force\n",
    "cur_pos = 0\n",
    "for i in range(1, 50000001):\n",
    "    cur_pos = ((cur_pos + steps) % i) + 1\n",
    "    if cur_pos == 1:\n",
    "        value_after_0 = i\n",
    "print(value_after_0)"
   ]
  },
  {
   "cell_type": "code",
   "execution_count": null,
   "metadata": {
    "collapsed": true
   },
   "outputs": [],
   "source": []
  }
 ],
 "metadata": {
  "kernelspec": {
   "display_name": "Python 3",
   "language": "python",
   "name": "python3"
  },
  "language_info": {
   "codemirror_mode": {
    "name": "ipython",
    "version": 3
   },
   "file_extension": ".py",
   "mimetype": "text/x-python",
   "name": "python",
   "nbconvert_exporter": "python",
   "pygments_lexer": "ipython3",
   "version": "3.6.3"
  }
 },
 "nbformat": 4,
 "nbformat_minor": 2
}
