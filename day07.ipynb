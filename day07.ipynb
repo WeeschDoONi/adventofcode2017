{
 "cells": [
  {
   "cell_type": "code",
   "execution_count": 3,
   "metadata": {},
   "outputs": [
    {
     "name": "stdout",
     "output_type": "stream",
     "text": [
      "Root name is: ykpsek\n",
      "Correct weight: 1060\n"
     ]
    }
   ],
   "source": [
    "from collections import Counter\n",
    "import utils\n",
    "\n",
    "data = utils.read_line('day07_input.txt')\n",
    "\n",
    "lines = data.strip().splitlines()\n",
    "\n",
    "weights = {}\n",
    "sub_towers = {}            \n",
    "\n",
    "for line in lines:\n",
    "    line = line.split(' -> ')\n",
    "    prog, weight = line[0].split()\n",
    "    weights[prog] = int(weight.strip('()'))\n",
    "    if len(line) > 1:\n",
    "        sub_towers[prog] = line[1].split(', ')\n",
    "\n",
    "# Part One #\n",
    "for tower in sub_towers:\n",
    "    if not any(tower in sub_tower for sub_tower in sub_towers.values()):\n",
    "        print('Root name is: {}'.format(tower))\n",
    "\n",
    "# Part Two #    \n",
    "solution = 0\n",
    "\n",
    "def get_sub_weights_sum(tower):\n",
    "\n",
    "    weights_sum = 0\n",
    "    sub_weights_sums = {}\n",
    "\n",
    "    if tower in sub_towers:\n",
    "\n",
    "        for sub_tower in sub_towers[tower]:\n",
    "            sub_weights_sums[sub_tower] = get_sub_weights_sum(sub_tower)\n",
    "            weights_sum += sub_weights_sums[sub_tower]   \n",
    "\n",
    "        if len(Counter(sub_weights_sums.values())) > 1:\n",
    "            wrong_sum = [k for k, v in Counter(sub_weights_sums.values()).items() if v == 1] \n",
    "            wrong_tower = [k for k, v in sub_weights_sums.items() if v == wrong_sum[0]]\n",
    "            # difference between wrong value and correct value\n",
    "            # correct value: sum of all values, substract wrong value, divide by number of values - 1\n",
    "            dif = wrong_sum[0] - (sum(sub_weights_sums.values()) - wrong_sum[0]) / (len(sub_weights_sums.values()) - 1)\n",
    "            global solution \n",
    "            solution = (int(weights[wrong_tower[0]] - dif)) if not solution else solution\n",
    "\n",
    "    return weights[tower] + weights_sum\n",
    "\n",
    "get_sub_weights_sum('ykpsek')\n",
    "print('Correct weight: {}'.format(solution)) "
   ]
  },
  {
   "cell_type": "code",
   "execution_count": null,
   "metadata": {},
   "outputs": [],
   "source": []
  },
  {
   "cell_type": "code",
   "execution_count": null,
   "metadata": {},
   "outputs": [],
   "source": []
  },
  {
   "cell_type": "code",
   "execution_count": null,
   "metadata": {},
   "outputs": [],
   "source": []
  }
 ],
 "metadata": {
  "kernelspec": {
   "display_name": "Python 3",
   "language": "python",
   "name": "python3"
  },
  "language_info": {
   "codemirror_mode": {
    "name": "ipython",
    "version": 3
   },
   "file_extension": ".py",
   "mimetype": "text/x-python",
   "name": "python",
   "nbconvert_exporter": "python",
   "pygments_lexer": "ipython3",
   "version": "3.5.2"
  }
 },
 "nbformat": 4,
 "nbformat_minor": 2
}
