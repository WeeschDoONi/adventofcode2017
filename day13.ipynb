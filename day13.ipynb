{
 "cells": [
  {
   "cell_type": "code",
   "execution_count": 48,
   "metadata": {
    "scrolled": true
   },
   "outputs": [
    {
     "name": "stdout",
     "output_type": "stream",
     "text": [
      "788\n",
      "3905748\n"
     ]
    }
   ],
   "source": [
    "import utils\n",
    "\n",
    "def caught(depth, scan_range):\n",
    "    return depth % ((scan_range - 1) * 2) == 0\n",
    "\n",
    "\n",
    "def calc_severity(data, delay = 0, part2 = False):\n",
    "    severity = 0\n",
    "    for line in data:\n",
    "        depth, scan_range = map(int, line)\n",
    "        if caught(depth + delay, scan_range):\n",
    "            if part2:\n",
    "                return True\n",
    "            severity += depth * scan_range\n",
    "    return False if part2 else severity\n",
    "\n",
    "\n",
    "data = utils.read_line('day13_input.txt').split('\\n')\n",
    "\n",
    "data = [line.split(': ') for line in data]\n",
    "\n",
    "print(calc_severity(data))\n",
    "\n",
    "delay = 0\n",
    "while calc_severity(data, delay, part2 = True): \n",
    "    delay += 1 \n",
    "print(delay)"
   ]
  },
  {
   "cell_type": "code",
   "execution_count": null,
   "metadata": {},
   "outputs": [],
   "source": []
  },
  {
   "cell_type": "code",
   "execution_count": null,
   "metadata": {},
   "outputs": [],
   "source": []
  }
 ],
 "metadata": {
  "kernelspec": {
   "display_name": "Python 3",
   "language": "python",
   "name": "python3"
  },
  "language_info": {
   "codemirror_mode": {
    "name": "ipython",
    "version": 3
   },
   "file_extension": ".py",
   "mimetype": "text/x-python",
   "name": "python",
   "nbconvert_exporter": "python",
   "pygments_lexer": "ipython3",
   "version": "3.5.2"
  }
 },
 "nbformat": 4,
 "nbformat_minor": 2
}
