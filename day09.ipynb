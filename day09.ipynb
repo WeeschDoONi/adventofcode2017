{
 "cells": [
  {
   "cell_type": "code",
   "execution_count": 1,
   "metadata": {},
   "outputs": [
    {
     "name": "stdout",
     "output_type": "stream",
     "text": [
      "Total group score: 9662\n",
      "Non-canceled characters in garbage: 4903\n"
     ]
    }
   ],
   "source": [
    "import utils\n",
    "\n",
    "data = utils.read_line('day09_input.txt')\n",
    "score = 0 # total score of all groups in part one\n",
    "garbage_count = 0 # number of non-canceled garbage characters\n",
    "depth = 0 # depth of brackets\n",
    "garbage = False # tracks state (inside/outside garbage (between '<' and '>'))\n",
    "skip_next = False # skips next character (after '!')\n",
    "\n",
    "for c in data:   \n",
    "    # if we had a '!' we need to skip the next one, no matter what it is\n",
    "    if skip_next:\n",
    "        skip_next = False\n",
    "        continue\n",
    "\n",
    "    # a '!' makes us skip the next character regardless of the garbage state\n",
    "    if c == '!':\n",
    "        skip_next = True\n",
    "        continue\n",
    "\n",
    "    # outside of garbage we look for the beginning of it, or brackets\n",
    "    if not garbage:\n",
    "        # we need to track the depth of our bracket groups and sum them up (part one)\n",
    "        if c == '{':\n",
    "            depth += 1\n",
    "            score += depth\n",
    "        elif c == '}' and depth > 0:\n",
    "            depth -= 1\n",
    "        elif c == '<':\n",
    "            garbage = True\n",
    "\n",
    "    # inside the garbage we look for nothing but the end        \n",
    "    else:\n",
    "        if c == '>':\n",
    "            garbage = False\n",
    "        else:\n",
    "            # part two: count all non-canceled characters within the garbage\n",
    "            garbage_count += 1\n",
    "\n",
    "print('Total group score: {}'.format(score))\n",
    "print('Non-canceled characters in garbage: {}'.format(garbage_count))"
   ]
  },
  {
   "cell_type": "code",
   "execution_count": null,
   "metadata": {},
   "outputs": [],
   "source": []
  }
 ],
 "metadata": {
  "kernelspec": {
   "display_name": "Python 3",
   "language": "python",
   "name": "python3"
  },
  "language_info": {
   "codemirror_mode": {
    "name": "ipython",
    "version": 3
   },
   "file_extension": ".py",
   "mimetype": "text/x-python",
   "name": "python",
   "nbconvert_exporter": "python",
   "pygments_lexer": "ipython3",
   "version": "3.5.2"
  }
 },
 "nbformat": 4,
 "nbformat_minor": 2
}
