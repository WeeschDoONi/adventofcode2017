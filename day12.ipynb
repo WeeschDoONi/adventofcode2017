{
 "cells": [
  {
   "cell_type": "code",
   "execution_count": 48,
   "metadata": {},
   "outputs": [
    {
     "name": "stdout",
     "output_type": "stream",
     "text": [
      "Number of programs in the group containing ID 0: 141\n",
      "Number of groups in total: 171\n"
     ]
    }
   ],
   "source": [
    "import utils\n",
    "import networkx as nx\n",
    "\n",
    "data = utils.read_line('day12_input.txt').splitlines()\n",
    "\n",
    "G = nx.Graph()\n",
    "\n",
    "for line in data:\n",
    "    program_id, neighbour_ids = line.split(' <-> ')\n",
    "    G.add_edges_from((program_id, neighbour_id) for neighbour_id in neighbour_ids.split(', '))\n",
    "\n",
    "# node_connected_component(G, n) \tReturn the nodes in the component of graph containing node n.\n",
    "print('Number of programs in the group containing ID 0: {}'.format(len(nx.node_connected_component(G, '0'))))\n",
    "# number_connected_components(G) \tReturn the number of connected components.\n",
    "print('Number of groups in total: {}'.format(nx.number_connected_components(G)))"
   ]
  },
  {
   "cell_type": "code",
   "execution_count": null,
   "metadata": {},
   "outputs": [],
   "source": []
  },
  {
   "cell_type": "code",
   "execution_count": null,
   "metadata": {},
   "outputs": [],
   "source": []
  }
 ],
 "metadata": {
  "kernelspec": {
   "display_name": "Python 3",
   "language": "python",
   "name": "python3"
  },
  "language_info": {
   "codemirror_mode": {
    "name": "ipython",
    "version": 3
   },
   "file_extension": ".py",
   "mimetype": "text/x-python",
   "name": "python",
   "nbconvert_exporter": "python",
   "pygments_lexer": "ipython3",
   "version": "3.5.2"
  }
 },
 "nbformat": 4,
 "nbformat_minor": 2
}
