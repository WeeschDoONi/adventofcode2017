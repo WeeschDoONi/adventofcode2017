{
 "cells": [
  {
   "cell_type": "markdown",
   "metadata": {},
   "source": [
    "# Tag 03, Erster Teil:\n",
    "\n",
    "Mathematischer Ansatz: \n",
    "\n",
    "Nach außen hin wachsende Quadrate der Größe (2n-1)² beginnend mit n=1 und der Zahl 1 in der Mitte.\n",
    "\n",
    "Die größte Zahl im Quadrat ist immer unten rechts. Man sucht das erste Quadrat, in dem die größte Zahl größer als die Ausgangszahl ist (in dieser Aufgabe 325489).\n",
    "\n",
    "Die Manhattan-Distanz der größten Zahl beträgt 2*(n-1).\n",
    "\n",
    "Die Zahlen in den Ecken des Quadrats haben dieselbe (maximale) Manhattan-Distanz.\n",
    "\n",
    "Man sucht nun die nähestliegende Ecke zur Ausgangszahl. Die Differenz zwischen den Zahlen ist auch die Differenz zwischen der Manhattan-Distanz der beiden Zahlen.\n",
    "\n",
    "Der Code unten ist modular und kann für jede beliebige Zahl verwendet werden."
   ]
  },
  {
   "cell_type": "code",
   "execution_count": 2,
   "metadata": {},
   "outputs": [
    {
     "name": "stdout",
     "output_type": "stream",
     "text": [
      "Manhattan-Distanz von 325489: 552\n"
     ]
    }
   ],
   "source": [
    "##### 1 #####\n",
    "\n",
    "def get_distance(number):\n",
    "    \n",
    "    n = 0\n",
    "    \n",
    "    # calculate the iteration number n:\n",
    "    while pow(2*n-1, 2) <= number:\n",
    "        n += 1\n",
    "        \n",
    "    # calculate the biggest number in that iteration\n",
    "    max = pow(2*n-1, 2)\n",
    "    \n",
    "    # calculate manhattan distance of the max number\n",
    "    max_dist = 2*(n-1)\n",
    "    \n",
    "    # calculate distance to corners (same manhattan distance as max)\n",
    "    corners_dist = [max-number]\n",
    "    corner = max\n",
    "    for i in range(3):\n",
    "        corner -= 2*(n-1)\n",
    "        corners_dist.append(corner -number)\n",
    "        \n",
    "    # get difference to closest corner\n",
    "    min_dist = min(corners_dist, key=abs)\n",
    "    return int(max_dist + min_dist)     \n",
    "    \n",
    "print('Manhattan-Distanz von 325489: {}'.format(get_distance(325489)))"
   ]
  },
  {
   "cell_type": "markdown",
   "metadata": {},
   "source": [
    "# Zweiter Teil:\n",
    "\n",
    "Ansatz: Berechnung der gesamten Matrix, bis die gesuchte Zahl gefunden wurde.\n",
    "\n",
    "Man hätte mit einem Großteil des Codes auch die erste Aufgabe ohne Formeln lösen können.\n",
    "\n",
    "Kleiner Trick: Numpy-Matrizen akzeptiern, typischerweise für Python, negative Indizes, um auf die hinteren Elemente verweisen zu können. Die Stelle (0, 0) ist oben links. Wir nutzen die Matrix als Koordinatensystem mit 0, 0 in der Mitte. Damit ist zwar die Repräsentation der Matrix komplett verkehrt, funktioniert aber für unseren Zweck. Man kann die Matrix aus dem Code nicht korrekt visualisieren!"
   ]
  },
  {
   "cell_type": "code",
   "execution_count": 3,
   "metadata": {},
   "outputs": [
    {
     "name": "stdout",
     "output_type": "stream",
     "text": [
      "330785\n"
     ]
    }
   ],
   "source": [
    "##### 2 #####\n",
    "import numpy as np\n",
    "\n",
    "# the step function calculates the coordinates and direction of the next step\n",
    "# 'r' right, 'u' up, 'd' down, 'l' left\n",
    "def step(x, y, d, i):\n",
    "    if d == 'r':\n",
    "        if x == i and y > -i:\n",
    "            return x, y+1, 'u'\n",
    "        else:\n",
    "            return x+1, y, 'r'\n",
    "    if d == 'u':\n",
    "        if x == i and y == i:\n",
    "            return x-1, y, 'l'\n",
    "        else:\n",
    "            return x, y+1, 'u'\n",
    "    if d == 'l':\n",
    "        if x == -i and y == i:\n",
    "            return x, y-1, 'd'\n",
    "        else:\n",
    "            return x-1, y, 'l'\n",
    "    if d == 'd':\n",
    "        if x == -i and y == -i:\n",
    "            return x+1, y, 'r'\n",
    "        else:\n",
    "            return x, y-1, 'd'\n",
    "\n",
    "# matrix represents a coordinate system with (0,0) in the middle \n",
    "# (you are not supposed to use numpy matrices like this)\n",
    "m = np.zeros((1000,1000), dtype=int)\n",
    "# starting coordinates\n",
    "x, y = 0, 0\n",
    "# starting number\n",
    "n = 1\n",
    "# starting iteration\n",
    "i = 1\n",
    "# set number at current coordinates\n",
    "m[x,y] = n\n",
    "# first direction is to the right\n",
    "d = 'r'\n",
    "\n",
    "# we want to find the first n greater than 325489\n",
    "while n < 325489:\n",
    "    # make a step\n",
    "    x, y, d = step(x, y, d, i)\n",
    "    # square is complete, let's go to the next one\n",
    "    if x > i:\n",
    "        i += 1\n",
    "    \n",
    "    # calculate n from surrounding numbers\n",
    "    n = m[x-1, y+1] + m[x-1, y] + m[x-1, y-1] \\\n",
    "      + m[x, y+1]               + m[x, y-1] \\\n",
    "      + m[x+1, y+1] + m[x+1, y] + m[x+1, y-1]\n",
    "    # set n at current location\n",
    "    m[x,y] = n\n",
    "    \n",
    "print(n)"
   ]
  },
  {
   "cell_type": "code",
   "execution_count": null,
   "metadata": {},
   "outputs": [],
   "source": []
  }
 ],
 "metadata": {
  "kernelspec": {
   "display_name": "Python 3",
   "language": "python",
   "name": "python3"
  },
  "language_info": {
   "codemirror_mode": {
    "name": "ipython",
    "version": 3
   },
   "file_extension": ".py",
   "mimetype": "text/x-python",
   "name": "python",
   "nbconvert_exporter": "python",
   "pygments_lexer": "ipython3",
   "version": "3.5.2"
  }
 },
 "nbformat": 4,
 "nbformat_minor": 2
}
