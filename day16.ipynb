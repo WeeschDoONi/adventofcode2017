{
 "cells": [
  {
   "cell_type": "code",
   "execution_count": null,
   "metadata": {},
   "outputs": [],
   "source": []
  },
  {
   "cell_type": "code",
   "execution_count": 4,
   "metadata": {},
   "outputs": [
    {
     "name": "stdout",
     "output_type": "stream",
     "text": [
      "lgpkniodmjacfbeh\n",
      "hklecbpnjigoafmd\n"
     ]
    }
   ],
   "source": [
    "import utils\n",
    "from collections import deque\n",
    "\n",
    "def dance(data, programs):\n",
    "    for ins in data:\n",
    "        if ins.startswith('s'):\n",
    "            programs.rotate(int(ins[1:]))\n",
    "        elif ins.startswith('x'):\n",
    "            p1, p2 = map(int, ins[1:].split('/'))\n",
    "            programs[p1], programs[p2] = programs[p2], programs[p1]\n",
    "        elif ins.startswith('p'):\n",
    "            p1, p2 = ins[1:].split('/')\n",
    "            p1, p2 = programs.index(p1), programs.index(p2)\n",
    "            programs[p1], programs[p2] = programs[p2], programs[p1]\n",
    "    return programs\n",
    "\n",
    "programs = deque('abcdefghijklmnop')\n",
    "\n",
    "data = utils.read_line('day16_input.txt').split(',')\n",
    "\n",
    "# Part one\n",
    "print(''.join(dance(data, programs.copy())))\n",
    "\n",
    "dances = []\n",
    "\n",
    "while programs not in dances:\n",
    "    dances.append(programs.copy())\n",
    "    programs = dance(data, programs.copy())\n",
    "\n",
    "loop_length = len(dances)\n",
    "billionth_dance_index = 1000000000 % loop_length\n",
    "# Part two\n",
    "print(''.join(dances[billionth_dance_index]))"
   ]
  },
  {
   "cell_type": "code",
   "execution_count": null,
   "metadata": {},
   "outputs": [],
   "source": []
  }
 ],
 "metadata": {
  "kernelspec": {
   "display_name": "Python 3",
   "language": "python",
   "name": "python3"
  },
  "language_info": {
   "codemirror_mode": {
    "name": "ipython",
    "version": 3
   },
   "file_extension": ".py",
   "mimetype": "text/x-python",
   "name": "python",
   "nbconvert_exporter": "python",
   "pygments_lexer": "ipython3",
   "version": "3.5.2"
  }
 },
 "nbformat": 4,
 "nbformat_minor": 2
}
