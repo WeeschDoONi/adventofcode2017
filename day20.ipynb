{
 "cells": [
  {
   "cell_type": "code",
   "execution_count": 8,
   "metadata": {},
   "outputs": [
    {
     "name": "stdout",
     "output_type": "stream",
     "text": [
      "344\n",
      "404\n"
     ]
    }
   ],
   "source": [
    "import numpy as np\n",
    "import utils\n",
    "\n",
    "class Particle:\n",
    "    \n",
    "    def __init__(self, p, v, a, n):\n",
    "        self.p = p\n",
    "        self.v = v\n",
    "        self.a = a\n",
    "        self.n = n\n",
    "        \n",
    "    def update(self):\n",
    "        self.v += self.a\n",
    "        self.p += self.v\n",
    "        \n",
    "    def get_velocity(self):\n",
    "        return abs(self.v[0]) + abs(self.v[1]) + abs(self.v[2])       \n",
    "        \n",
    "    def get_acceleration(self):\n",
    "        return abs(self.a[0]) + abs(self.a[1]) + abs(self.a[2])\n",
    "    \n",
    "    def __repr__(self):\n",
    "        return str(self.v) + str(self.a) + str(self.n)\n",
    "    \n",
    "data = utils.read_line('day20_input.txt').splitlines()\n",
    "\n",
    "particles = []\n",
    "\n",
    "for n, line in enumerate(data):\n",
    "    p, v, a = line.split(', ')\n",
    "    p = np.array(list(map(int, p[3:-1].split(','))))\n",
    "    v = np.array(list(map(int, v[3:-1].split(','))))\n",
    "    a = np.array(list(map(int, a[3:-1].split(','))))\n",
    "    particles.append(Particle(p, v, a, n))\n",
    "\n",
    "# Part one\n",
    "min_particle = particles[0]\n",
    "\n",
    "for particle in particles:\n",
    "    if particle.get_acceleration() < min_particle.get_acceleration() \\\n",
    "    or (particle.get_acceleration() == min_particle.get_acceleration() \\\n",
    "    and particle.get_velocity() < min_particle.get_velocity()):\n",
    "            min_particle = particle\n",
    "        \n",
    "print(min_particle.n)\n",
    "\n",
    "# Part two\n",
    "no_collision = 0\n",
    "while no_collision < 100:\n",
    "    number_particles = len(particles)\n",
    "    positions = []\n",
    "    to_remove = set()\n",
    "    for particle in particles:\n",
    "        particle.update()\n",
    "        if particle.p.tolist() in positions:\n",
    "            to_remove.add(particle)\n",
    "            to_remove.add(particles[positions.index(particle.p.tolist())])\n",
    "        positions.append(particle.p.tolist())\n",
    "        \n",
    "    for particle in to_remove:\n",
    "        particles.remove(particle)\n",
    "        \n",
    "    if len(particles) < number_particles:\n",
    "        no_collision = 0\n",
    "    else:\n",
    "        no_collision += 1\n",
    "        \n",
    "print(len(particles))"
   ]
  },
  {
   "cell_type": "code",
   "execution_count": null,
   "metadata": {},
   "outputs": [],
   "source": [
    "\n",
    "    "
   ]
  },
  {
   "cell_type": "code",
   "execution_count": null,
   "metadata": {},
   "outputs": [],
   "source": []
  }
 ],
 "metadata": {
  "kernelspec": {
   "display_name": "Python 3",
   "language": "python",
   "name": "python3"
  },
  "language_info": {
   "codemirror_mode": {
    "name": "ipython",
    "version": 3
   },
   "file_extension": ".py",
   "mimetype": "text/x-python",
   "name": "python",
   "nbconvert_exporter": "python",
   "pygments_lexer": "ipython3",
   "version": "3.5.2"
  }
 },
 "nbformat": 4,
 "nbformat_minor": 2
}
