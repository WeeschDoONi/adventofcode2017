{
 "cells": [
  {
   "cell_type": "code",
   "execution_count": 6,
   "metadata": {},
   "outputs": [],
   "source": [
    "with open('day05_input.txt', 'r') as text:\n",
    "    input = text.read().splitlines()"
   ]
  },
  {
   "cell_type": "code",
   "execution_count": 9,
   "metadata": {},
   "outputs": [
    {
     "name": "stdout",
     "output_type": "stream",
     "text": [
      "342669\n"
     ]
    }
   ],
   "source": [
    "    ##### 1 ##### \n",
    "    \n",
    "    offsets = list(map(int, input))\n",
    "    \n",
    "    steps = 0\n",
    "    index = 0\n",
    "    \n",
    "    while 0 <= index < len(offsets):\n",
    "        \n",
    "        steps += 1\n",
    "        current_offset= offsets[index]\n",
    "        offsets[index] += 1\n",
    "        index += current_offset\n",
    " \n",
    "    print(steps)"
   ]
  },
  {
   "cell_type": "code",
   "execution_count": 10,
   "metadata": {},
   "outputs": [
    {
     "name": "stdout",
     "output_type": "stream",
     "text": [
      "25136209\n"
     ]
    }
   ],
   "source": [
    "    ##### 2 #####\n",
    "    \n",
    "    offsets = list(map(int, input))\n",
    "    \n",
    "    steps = 0\n",
    "    index = 0\n",
    "    \n",
    "    while 0 <= index < len(offsets):\n",
    "        \n",
    "        steps += 1\n",
    "        current_offset = offsets[index]\n",
    "        \n",
    "        if offsets[index] >= 3:\n",
    "            offsets[index] -= 1\n",
    "        else:\n",
    "            offsets[index] += 1\n",
    "            \n",
    "        index += current_offset\n",
    "      \n",
    "    print(steps)"
   ]
  },
  {
   "cell_type": "code",
   "execution_count": null,
   "metadata": {},
   "outputs": [],
   "source": []
  }
 ],
 "metadata": {
  "kernelspec": {
   "display_name": "Python 3",
   "language": "python",
   "name": "python3"
  },
  "language_info": {
   "codemirror_mode": {
    "name": "ipython",
    "version": 3
   },
   "file_extension": ".py",
   "mimetype": "text/x-python",
   "name": "python",
   "nbconvert_exporter": "python",
   "pygments_lexer": "ipython3",
   "version": "3.5.2"
  }
 },
 "nbformat": 4,
 "nbformat_minor": 2
}
