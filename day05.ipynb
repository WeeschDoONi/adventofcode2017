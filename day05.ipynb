{
 "cells": [
  {
   "cell_type": "code",
   "execution_count": 4,
   "metadata": {},
   "outputs": [],
   "source": [
    "import utils\n",
    "\n",
    "data = utils.read_line('day05_input.txt')\n",
    "data = data.splitlines()"
   ]
  },
  {
   "cell_type": "code",
   "execution_count": 5,
   "metadata": {},
   "outputs": [
    {
     "name": "stdout",
     "output_type": "stream",
     "text": [
      "342669\n"
     ]
    }
   ],
   "source": [
    "    ##### 1 ##### \n",
    "    \n",
    "    offsets = list(map(int, input))\n",
    "    \n",
    "    steps = 0\n",
    "    index = 0\n",
    "    \n",
    "    while 0 <= index < len(offsets):\n",
    "        \n",
    "        steps += 1\n",
    "        current_offset= offsets[index]\n",
    "        offsets[index] += 1\n",
    "        index += current_offset\n",
    " \n",
    "    print(steps)"
   ]
  },
  {
   "cell_type": "code",
   "execution_count": null,
   "metadata": {},
   "outputs": [],
   "source": [
    "    ##### 2 #####\n",
    "    \n",
    "    offsets = list(map(int, input))\n",
    "    \n",
    "    steps = 0\n",
    "    index = 0\n",
    "    \n",
    "    while 0 <= index < len(offsets):\n",
    "        \n",
    "        steps += 1\n",
    "        current_offset = offsets[index]\n",
    "        \n",
    "        if offsets[index] >= 3:\n",
    "            offsets[index] -= 1\n",
    "        else:\n",
    "            offsets[index] += 1\n",
    "            \n",
    "        index += current_offset\n",
    "      \n",
    "    print(steps)"
   ]
  },
  {
   "cell_type": "code",
   "execution_count": null,
   "metadata": {},
   "outputs": [],
   "source": []
  }
 ],
 "metadata": {
  "kernelspec": {
   "display_name": "Python 3",
   "language": "python",
   "name": "python3"
  },
  "language_info": {
   "codemirror_mode": {
    "name": "ipython",
    "version": 3
   },
   "file_extension": ".py",
   "mimetype": "text/x-python",
   "name": "python",
   "nbconvert_exporter": "python",
   "pygments_lexer": "ipython3",
   "version": "3.5.2"
  }
 },
 "nbformat": 4,
 "nbformat_minor": 2
}
